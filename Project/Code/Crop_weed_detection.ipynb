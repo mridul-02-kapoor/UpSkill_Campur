{
  "cells": [
    {
      "cell_type": "code",
      "execution_count": null,
      "metadata": {
        "id": "nflj9oqwCwUb"
      },
      "outputs": [],
      "source": [
        "!mkdir ~/.kaggle                 #creates dir with kaggle directory\n",
        "!cp kaggle.json ~/.kaggle/\n",
        "!chmod 600 ~/.kaggle/kaggle.json\n",
        "\n",
        "# Dataset Download\n",
        "!kaggle datasets download -d ravirajsinh45/crop-and-weed-detection-data-with-bounding-boxes\n",
        "\n",
        "\n",
        "# Data Extraction\n",
        "import zipfile\n",
        "zip_ref = zipfile.ZipFile('/content/crop-and-weed-detection-data-with-bounding-boxes.zip', 'r')     #ZipFile object points to downloaded zip file\n",
        "zip_ref.extractall(\"/content/\")\n",
        "zip_ref.close()"
      ]
    },
    {
      "cell_type": "code",
      "execution_count": null,
      "metadata": {
        "id": "0pQMMC1uCyak"
      },
      "outputs": [],
      "source": [
        "# Library Import\n",
        "import os                           #interacts with os\n",
        "import numpy as np                  #handle large and multidimensional arrays and matrices\n",
        "import pandas as pd                 #manipulating numerical data\n",
        "import matplotlib.pyplot as plt     #visualization"
      ]
    },
    {
      "cell_type": "code",
      "execution_count": null,
      "metadata": {
        "id": "b28w3HsKCyXU"
      },
      "outputs": [],
      "source": [
        "info=pd.DataFrame(columns = [\"Name\",\"Class\",\"X\", \"Y\", \"Width\", \"Height\"])\n",
        "print(\"Dataset Information\\n\",info)"
      ]
    },
    {
      "cell_type": "code",
      "execution_count": null,
      "metadata": {
        "id": "ZiTMv22LCyR4"
      },
      "outputs": [],
      "source": [
        "#empty list to store name, classification, x and y coordinates, width and height\n",
        "name = []\n",
        "clas = []\n",
        "x = []\n",
        "y = []\n",
        "w = []\n",
        "h = []\n",
        "\n",
        "path = \"/content/agri_data/data/\"                           #directory path\n",
        "for file in os.listdir(path):                               #loop iterates over each file\n",
        "  if file.split(\".\")[-1] == \"txt\":                          #ensures only text files are processed\n",
        "    with open(path + file, \"r\") as f :\n",
        "      for line in f.readlines():\n",
        "        data = line.split(\" \")                              #index 0-class, 1-x, 2-y, 3-width, 4-height\n",
        "        name.append(file.split(\".\")[0])\n",
        "        clas.append(data[0])\n",
        "        x.append(data[1])\n",
        "        y.append(data[2])\n",
        "        w.append(data[3])\n",
        "        h.append(data[4])"
      ]
    },
    {
      "cell_type": "code",
      "execution_count": null,
      "metadata": {
        "colab": {
          "base_uri": "https://localhost:8080/"
        },
        "id": "YnzeIOqmCyPR",
        "outputId": "e6c4d23c-1f6d-4d7e-f4f9-fc1f065842cf"
      },
      "outputs": [],
      "source": [
        "len(name), len(clas), len(x), len(y),len(w), len(h)     #gives number of elements"
      ]
    },
    {
      "cell_type": "code",
      "execution_count": null,
      "metadata": {
        "id": "hL98X4xkCyM0"
      },
      "outputs": [],
      "source": [
        "# Saves and Prints information about the dataset\n",
        "info[\"Name\"] = pd.Series(name)\n",
        "info[\"Class\"] = pd.Series(clas)\n",
        "info[\"X\"] = pd.to_numeric(pd.Series(x))\n",
        "info[\"Y\"] = pd.to_numeric(pd.Series(y))\n",
        "info[\"Width\"] = pd.to_numeric(pd.Series(w))\n",
        "info[\"Height\"] = pd.to_numeric(pd.Series(h))\n",
        "\n",
        "print(\"Information\\n\",info.info())"
      ]
    },
    {
      "cell_type": "code",
      "execution_count": null,
      "metadata": {
        "id": "vq87AdNKCyHY"
      },
      "outputs": [],
      "source": [
        "# Creates directory named Cropped_data and two other directories Crop and Weed inside Cropped_data\n",
        "!mkdir Cropped_data\n",
        "!mkdir Cropped_data/Crop\n",
        "!mkdir Cropped_data/Weed"
      ]
    },
    {
      "cell_type": "code",
      "execution_count": null,
      "metadata": {
        "id": "sriBF7BcCyCA"
      },
      "outputs": [],
      "source": [
        "# IMAGE PROCESSING AND BOUNDING BOXES GENERATION \n",
        "# IMAGE CROP, RESIZE AND STORE SEPARATELY\n",
        "\n",
        "from PIL import Image                                                     #PIL (Python Imaging Library) - for image processing\n",
        "\n",
        "def crop_pic(image_name, x, y, w, h):                                     #function takes the name of image file and coordinates (x, y), width (w), and height (h) of the bounding box to be cropped\n",
        "  source_path = \"/content/agri_data/data/\"\n",
        "  image = plt.imread(f\"{source_path}{image_name}.jpeg\")\n",
        "  #taking the shape\n",
        "  W,H = image.shape[1],image.shape[0]\n",
        "  #normalizing\n",
        "  X = x*W\n",
        "  Y = y*H\n",
        "  width = w*W\n",
        "  height = h*H\n",
        "\n",
        "  x1 = int( X - (int(width) // 2))\n",
        "  y1 = int( Y - (int(height) // 2))\n",
        "  x2 = int( X + (int(width) // 2))\n",
        "  y2 = int( Y + (int(height) // 2))\n",
        "  print(\"Coordinates of bounding boxes\",x1,x2, y1, y2)\n",
        "\n",
        "  # Crop the image using the calculated coordinates\n",
        "  cropped_image = image[y1:y2,  x1:x2]\n",
        "  print(\"Coordinates of bounding boxes\",W,H,x,y)\n",
        "  return cropped_image\n",
        "\n",
        "#Cropping the image and adding to its corresponding folder.\n",
        "for index in range(info.shape[0]):                                        # through each row of data in a DataFrame info-contains information about the image and bounding boxes corrdinates\n",
        "  cropped_pic = crop_pic( info.iloc[index,0], info.iloc[index,2], info.iloc[index,3], info.iloc[index,4],info.iloc[index,5] )\n",
        "  reduced_img = Image.fromarray(cropped_pic)\n",
        "  reduced_img = reduced_img.resize((256,256))                             #resize and cropped image\n",
        "  print(info.iloc[index,1],info.iloc[index,0])\n",
        "  if info.iloc[index,1] == '0':\n",
        "    reduced_img.save(f\"/content/Cropped_data/Crop/{index}.jpeg\")\n",
        "  else:\n",
        "    reduced_img.save(f\"/content/Cropped_data/Weed/{index}.jpeg\")\n",
        "\n",
        "\n",
        "print(\"Size of dataset\",len(os.listdir(\"/content/Cropped_data/Crop\"))+len(os.listdir(\"/content/Cropped_data/Weed\")))\n",
        "info.shape"
      ]
    },
    {
      "cell_type": "code",
      "execution_count": null,
      "metadata": {
        "id": "skVeu70iDygr"
      },
      "outputs": [],
      "source": [
        "# LIBRARY FOR CNN MODEL GENERATION\n",
        "from tensorflow.keras.utils import image_dataset_from_directory\n",
        "import tensorflow as tf\n",
        "from tensorflow.keras.layers import Dense, Conv2D, BatchNormalization, MaxPooling2D, Flatten, Dropout\n",
        "from tensorflow.keras.models import Sequential\n",
        "\n",
        "# DATASET (PROCESSED) INFORMATION\n",
        "dataset = image_dataset_from_directory(\"/content/Cropped_data/\",image_size = (256,256))\n",
        "print(\"Class name; \",dataset.class_names)"
      ]
    },
    {
      "cell_type": "code",
      "execution_count": null,
      "metadata": {
        "id": "vch0JdzzDyZU"
      },
      "outputs": [],
      "source": [
        "# Normalization\n",
        "def process(image,label):\n",
        "    image = tf.cast (image/255.0 ,tf.float32)\n",
        "    return image,label\n",
        "dataset = dataset.map(process)"
      ]
    },
    {
      "cell_type": "code",
      "execution_count": null,
      "metadata": {
        "id": "qeHZyZ12DyWl"
      },
      "outputs": [],
      "source": [
        "# create CNN model\n",
        "\n",
        "model = Sequential()\n",
        "\n",
        "model.add(Conv2D(32,kernel_size=(3,3),padding='valid',activation='relu',input_shape=(256,256,3)))\n",
        "model.add(Conv2D(32,kernel_size=(3,3),padding='valid',activation='relu',input_shape=(256,256,3)))\n",
        "model.add(BatchNormalization())\n",
        "model.add(MaxPooling2D(pool_size=(2,2),strides=2,padding='valid'))\n",
        "\n",
        "model.add(Conv2D(64,kernel_size=(3,3),padding='valid',activation='relu'))\n",
        "model.add(Conv2D(64,kernel_size=(3,3),padding='valid',activation='relu'))\n",
        "model.add(BatchNormalization())\n",
        "model.add(MaxPooling2D(pool_size=(2,2),strides=2,padding='valid'))\n",
        "\n",
        "model.add(Conv2D(128,kernel_size=(3,3),padding='valid',activation='relu'))\n",
        "model.add(Conv2D(128,kernel_size=(3,3),padding='valid',activation='relu'))\n",
        "model.add(Conv2D(128,kernel_size=(3,3),padding='valid',activation='relu'))\n",
        "model.add(BatchNormalization())\n",
        "model.add(MaxPooling2D(pool_size=(2,2),strides=2,padding='valid'))\n",
        "\n",
        "model.add(Conv2D(128,kernel_size=(3,3),padding='valid',activation='relu'))\n",
        "model.add(Conv2D(128,kernel_size=(3,3),padding='valid',activation='relu'))\n",
        "model.add(Conv2D(128,kernel_size=(3,3),padding='valid',activation='relu'))\n",
        "model.add(BatchNormalization())\n",
        "model.add(MaxPooling2D(pool_size=(2,2),strides=2,padding='valid'))\n",
        "\n",
        "model.add(Conv2D(128,kernel_size=(3,3),padding='valid',activation='relu'))\n",
        "model.add(Conv2D(128,kernel_size=(3,3),padding='valid',activation='relu'))\n",
        "model.add(Conv2D(128,kernel_size=(3,3),padding='valid',activation='relu'))\n",
        "model.add(BatchNormalization())\n",
        "model.add(MaxPooling2D(pool_size=(2,2),strides=2,padding='valid'))\n",
        "\n",
        "model.add(Flatten())\n",
        "\n",
        "model.add(Dense(128,activation='relu'))\n",
        "model.add(Dropout(0.1))\n",
        "model.add(Dense(64,activation='relu'))\n",
        "model.add(Dropout(0.1))\n",
        "model.add(Dense(1,activation='sigmoid'))\n",
        "\n",
        "\n",
        "# MODEL SUMMARY\n",
        "print(\"Model Summary\\n\",model.summary())\n",
        "\n",
        "model.compile(optimizer='adam',loss='binary_crossentropy',metrics=['accuracy'])\n",
        "\n",
        "history = model.fit(dataset, epochs=10, batch_size=32)"
      ]
    },
    {
      "cell_type": "code",
      "execution_count": null,
      "metadata": {
        "colab": {
          "base_uri": "https://localhost:8080/",
          "height": 470
        },
        "id": "10rUZYQ1Cx6U",
        "outputId": "3ea43afd-1bbe-4cc7-c12b-30b510221df3"
      },
      "outputs": [],
      "source": [
        "# MODEL TESTING\n",
        "test_image = plt.imread(\"/content/Cropped_data/Weed/1029.jpeg\")\n",
        "plt.imshow(test_image)\n",
        "plt.show()\n",
        "test_image = process(test_image,0)[0]\n",
        "test_image = np.array(test_image).reshape((1,256,256,3))\n",
        "# test_image = test_image.reshape((1,256,256,3))\n",
        "if model.predict([test_image])[0]:\n",
        "  print(\"Weed\")\n",
        "else:\n",
        "  print(\"Crop\")"
      ]
    },
    {
      "cell_type": "code",
      "execution_count": null,
      "metadata": {
        "colab": {
          "base_uri": "https://localhost:8080/",
          "height": 470
        },
        "id": "WTJSsFL8EQAC",
        "outputId": "18f7f9b3-7fe8-4399-ed33-6ee6648f19fa"
      },
      "outputs": [],
      "source": [
        "test_image = plt.imread(\"/content/Cropped_data/Crop/1034.jpeg\")\n",
        "plt.imshow(test_image)\n",
        "plt.show()\n",
        "test_image = process(test_image,0)[0]\n",
        "test_image = np.array(test_image).reshape((1,256,256,3))\n",
        "# model.predict([test_image])\n",
        "\n",
        "if model.predict([test_image])[0]>0.50:\n",
        "  print(\"Weed\")\n",
        "else:\n",
        "  print(\"Crop\")"
      ]
    },
    {
      "cell_type": "code",
      "execution_count": null,
      "metadata": {
        "colab": {
          "base_uri": "https://localhost:8080/",
          "height": 430
        },
        "id": "eLwqh8cKEFeF",
        "outputId": "4bdf2042-d235-459f-fa04-2f9c66271f92"
      },
      "outputs": [],
      "source": [
        "# PLOT FOR MODEL ACCURACY TESTING\n",
        "plt.plot(history.history['accuracy'],label='train')\n",
        "plt.legend()\n",
        "plt.show()"
      ]
    },
    {
      "cell_type": "code",
      "execution_count": null,
      "metadata": {},
      "outputs": [],
      "source": [
        "# ACCURACY CURVE PLOT\n",
        "plt.plot(history.history['accuracy'])\n",
        "plt.plot(history.history['val_accuracy'])\n",
        "plt.title('model accuracy')\n",
        "plt.ylabel('accuracy')\n",
        "plt.xlabel('epoch')\n",
        "plt.legend(['Train', 'Validation'], loc='upper left')\n",
        "plt.show()\n",
        "# PLOT FOR LOSS CURVE\n",
        "plt.plot(history.history['loss'])\n",
        "plt.plot(history.history['val_loss'])\n",
        "plt.title('model loss')\n",
        "plt.ylabel('loss')\n",
        "plt.xlabel('epoch')\n",
        "plt.legend(['Train', 'Validation'], loc='upper left')\n",
        "plt.show()"
      ]
    }
  ],
  "metadata": {
    "accelerator": "GPU",
    "colab": {
      "gpuType": "T4",
      "provenance": []
    },
    "kernelspec": {
      "display_name": "Python 3",
      "name": "python3"
    },
    "language_info": {
      "name": "python"
    }
  },
  "nbformat": 4,
  "nbformat_minor": 0
}
